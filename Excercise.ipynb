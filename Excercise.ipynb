{
 "cells": [
  {
   "cell_type": "code",
   "execution_count": 3,
   "id": "741f7324-e8ea-4fb1-ae58-b4248e6983ec",
   "metadata": {},
   "outputs": [
    {
     "name": "stderr",
     "output_type": "stream",
     "text": [
      "\n",
      "[notice] A new release of pip is available: 24.0 -> 25.0.1\n",
      "[notice] To update, run: python.exe -m pip install --upgrade pip\n"
     ]
    },
    {
     "name": "stdout",
     "output_type": "stream",
     "text": [
      "Collecting pandas\n",
      "  Using cached pandas-2.2.3-cp312-cp312-win_amd64.whl.metadata (19 kB)\n",
      "Collecting numpy>=1.26.0 (from pandas)\n",
      "  Using cached numpy-2.2.3-cp312-cp312-win_amd64.whl.metadata (60 kB)\n",
      "Collecting python-dateutil>=2.8.2 (from pandas)\n",
      "  Using cached python_dateutil-2.9.0.post0-py2.py3-none-any.whl.metadata (8.4 kB)\n",
      "Collecting pytz>=2020.1 (from pandas)\n",
      "  Using cached pytz-2025.1-py2.py3-none-any.whl.metadata (22 kB)\n",
      "Collecting tzdata>=2022.7 (from pandas)\n",
      "  Using cached tzdata-2025.1-py2.py3-none-any.whl.metadata (1.4 kB)\n",
      "Collecting six>=1.5 (from python-dateutil>=2.8.2->pandas)\n",
      "  Using cached six-1.17.0-py2.py3-none-any.whl.metadata (1.7 kB)\n",
      "Using cached pandas-2.2.3-cp312-cp312-win_amd64.whl (11.5 MB)\n",
      "Using cached numpy-2.2.3-cp312-cp312-win_amd64.whl (12.6 MB)\n",
      "Using cached python_dateutil-2.9.0.post0-py2.py3-none-any.whl (229 kB)\n",
      "Using cached pytz-2025.1-py2.py3-none-any.whl (507 kB)\n",
      "Using cached tzdata-2025.1-py2.py3-none-any.whl (346 kB)\n",
      "Using cached six-1.17.0-py2.py3-none-any.whl (11 kB)\n",
      "Installing collected packages: pytz, tzdata, six, numpy, python-dateutil, pandas\n",
      "Successfully installed numpy-2.2.3 pandas-2.2.3 python-dateutil-2.9.0.post0 pytz-2025.1 six-1.17.0 tzdata-2025.1\n"
     ]
    }
   ],
   "source": [
    "!pip install pandas"
   ]
  },
  {
   "cell_type": "code",
   "execution_count": 4,
   "id": "d60e8ca7-6712-44ed-b1a9-44bc806c1c8c",
   "metadata": {},
   "outputs": [
    {
     "name": "stdout",
     "output_type": "stream",
     "text": [
      "Pandas installed successfully!\n"
     ]
    }
   ],
   "source": [
    "import pandas as pd\n",
    "print(\"Pandas installed successfully!\")"
   ]
  },
  {
   "cell_type": "code",
   "execution_count": 5,
   "id": "87860ec6-215c-4e4d-9a29-5f0d61a1693f",
   "metadata": {},
   "outputs": [
    {
     "name": "stderr",
     "output_type": "stream",
     "text": [
      "Traceback (most recent call last):\n",
      "  File \"C:\\Users\\Vishnu\\Documents\\research-paper-fetcher\\research_papers\\cli.py\", line 3, in <module>\n",
      "    from research_papers.fetch_papers import fetch_papers\n",
      "ModuleNotFoundError: No module named 'research_papers'\n"
     ]
    }
   ],
   "source": [
    "!python research_papers/cli.py \"cancer therapy\" -f results.csv"
   ]
  },
  {
   "cell_type": "code",
   "execution_count": 6,
   "id": "efa4c316-d378-4a38-b02f-0378039c889c",
   "metadata": {},
   "outputs": [
    {
     "name": "stdout",
     "output_type": "stream",
     "text": [
      "['.git', '.ipynb_checkpoints', 'pyproject.toml', 'README.md', 'research_papers', 'tests', 'Untitled.ipynb', 'venv']\n"
     ]
    }
   ],
   "source": [
    "import os\n",
    "print(os.listdir(\"C:/Users/Vishnu/Documents/research-paper-fetcher\"))"
   ]
  },
  {
   "cell_type": "code",
   "execution_count": 7,
   "id": "7958c56d-fe9b-4511-87a5-3b41e7817501",
   "metadata": {},
   "outputs": [],
   "source": [
    "import sys\n",
    "sys.path.append(\"C:/Users/Vishnu/Documents/research-paper-fetcher\")"
   ]
  },
  {
   "cell_type": "code",
   "execution_count": 8,
   "id": "56a9f624-c57b-4d11-a336-ce10cbe8ee5f",
   "metadata": {},
   "outputs": [
    {
     "name": "stderr",
     "output_type": "stream",
     "text": [
      "Traceback (most recent call last):\n",
      "  File \"C:\\Users\\Vishnu\\Documents\\research-paper-fetcher\\research_papers\\cli.py\", line 3, in <module>\n",
      "    from research_papers.fetch_papers import fetch_papers\n",
      "ModuleNotFoundError: No module named 'research_papers'\n"
     ]
    }
   ],
   "source": [
    "!python research_papers/cli.py \"cancer therapy\" -f results.csv"
   ]
  },
  {
   "cell_type": "code",
   "execution_count": 9,
   "id": "5bdfb256-6b2a-4c6e-99bb-ebbb589eb087",
   "metadata": {},
   "outputs": [
    {
     "name": "stdout",
     "output_type": "stream",
     "text": [
      "['.ipynb_checkpoints', 'cli.py', 'fetch_papers.py', 'filter_papers.py', '_init_.py']\n"
     ]
    }
   ],
   "source": [
    "import os\n",
    "print(os.listdir(\"C:/Users/Vishnu/Documents/research-paper-fetcher/research_papers\"))"
   ]
  },
  {
   "cell_type": "code",
   "execution_count": 10,
   "id": "8a70c6a3-f067-47e9-b99b-884322bd2ce2",
   "metadata": {},
   "outputs": [],
   "source": [
    "import os\n",
    "os.rename(\"research_papers/_init_.py\", \"research_papers/__init__.py\")"
   ]
  },
  {
   "cell_type": "code",
   "execution_count": 11,
   "id": "f5f9c709-5058-4ab6-ac94-65cbf6ec5077",
   "metadata": {},
   "outputs": [
    {
     "name": "stdout",
     "output_type": "stream",
     "text": [
      "['.ipynb_checkpoints', 'cli.py', 'fetch_papers.py', 'filter_papers.py', '__init__.py']\n"
     ]
    }
   ],
   "source": [
    "import os\n",
    "print(os.listdir(\"C:/Users/Vishnu/Documents/research-paper-fetcher/research_papers\"))"
   ]
  },
  {
   "cell_type": "code",
   "execution_count": 12,
   "id": "4abbf5d3-52bb-4283-b2e6-e288a582e022",
   "metadata": {},
   "outputs": [
    {
     "name": "stderr",
     "output_type": "stream",
     "text": [
      "Traceback (most recent call last):\n",
      "  File \"C:\\Users\\Vishnu\\Documents\\research-paper-fetcher\\research_papers\\cli.py\", line 3, in <module>\n",
      "    from research_papers.fetch_papers import fetch_papers\n",
      "ModuleNotFoundError: No module named 'research_papers'\n"
     ]
    }
   ],
   "source": [
    "!python research_papers/cli.py \"cancer therapy\" -f results.csv"
   ]
  },
  {
   "cell_type": "code",
   "execution_count": 13,
   "id": "7cc8f64e-ea1d-4974-9306-63ba172f08b0",
   "metadata": {},
   "outputs": [
    {
     "name": "stdout",
     "output_type": "stream",
     "text": [
      "['.ipynb_checkpoints', 'cli.py', 'fetch_papers.py', 'filter_papers.py', '__init__.py']\n"
     ]
    }
   ],
   "source": [
    "import os\n",
    "print(os.listdir(\"C:/Users/Vishnu/Documents/research-paper-fetcher/research_papers\"))"
   ]
  },
  {
   "cell_type": "code",
   "execution_count": 14,
   "id": "fbf7d8a9-be28-4b84-9076-e439815e90e7",
   "metadata": {},
   "outputs": [],
   "source": [
    "import sys\n",
    "sys.path.append(\"C:/Users/Vishnu/Documents/research-paper-fetcher\")"
   ]
  },
  {
   "cell_type": "code",
   "execution_count": 15,
   "id": "6ef62c9c-f6db-46c3-a29b-805410c8369a",
   "metadata": {},
   "outputs": [
    {
     "ename": "IndentationError",
     "evalue": "unexpected indent (fetch_papers.py, line 1)",
     "output_type": "error",
     "traceback": [
      "Traceback \u001b[36m(most recent call last)\u001b[39m:\n",
      "  File \u001b[92m~\\AppData\\Local\\Programs\\Python\\Python312\\Lib\\site-packages\\IPython\\core\\interactiveshell.py:3546\u001b[39m in \u001b[95mrun_code\u001b[39m\n    exec(code_obj, self.user_global_ns, self.user_ns)\n",
      "\u001b[36m  \u001b[39m\u001b[36mCell\u001b[39m\u001b[36m \u001b[39m\u001b[32mIn[15]\u001b[39m\u001b[32m, line 1\u001b[39m\n\u001b[31m    \u001b[39m\u001b[31mfrom research_papers.fetch_papers import fetch_papers\u001b[39m\n",
      "  \u001b[36mFile \u001b[39m\u001b[32m~\\Documents\\research-paper-fetcher\\research_papers\\fetch_papers.py:1\u001b[39m\n\u001b[31m    \u001b[39m\u001b[31mimport requests\u001b[39m\n    ^\n\u001b[31mIndentationError\u001b[39m\u001b[31m:\u001b[39m unexpected indent\n"
     ]
    }
   ],
   "source": [
    "from research_papers.fetch_papers import fetch_papers\n",
    "print(\"Module loaded successfully!\")"
   ]
  },
  {
   "cell_type": "code",
   "execution_count": 16,
   "id": "6a186e3f-a4b5-4033-9485-3dee94edd392",
   "metadata": {},
   "outputs": [
    {
     "name": "stdout",
     "output_type": "stream",
     "text": [
      "Module loaded successfully!\n"
     ]
    }
   ],
   "source": [
    "from research_papers.fetch_papers import fetch_papers\n",
    "print(\"Module loaded successfully!\")"
   ]
  },
  {
   "cell_type": "code",
   "execution_count": 18,
   "id": "01c79b42-5696-4cdf-804d-a7cd3f35bfaf",
   "metadata": {},
   "outputs": [
    {
     "name": "stderr",
     "output_type": "stream",
     "text": [
      "Traceback (most recent call last):\n",
      "  File \"C:\\Users\\Vishnu\\Documents\\research-paper-fetcher\\research_papers\\cli.py\", line 3, in <module>\n",
      "    from research_papers.fetch_papers import fetch_papers\n",
      "ModuleNotFoundError: No module named 'research_papers'\n"
     ]
    }
   ],
   "source": [
    "!python research_papers/cli.py \"cancer therapy\" -f results.csv"
   ]
  },
  {
   "cell_type": "code",
   "execution_count": 19,
   "id": "c9d0f5aa-4ac7-4cf8-8927-69360228d945",
   "metadata": {},
   "outputs": [],
   "source": [
    "import sys\n",
    "sys.path.append(\"C:/Users/Vishnu/Documents/research-paper-fetcher\")"
   ]
  },
  {
   "cell_type": "code",
   "execution_count": 20,
   "id": "5c092c4d-650b-4d72-a032-402c4c41eeeb",
   "metadata": {},
   "outputs": [
    {
     "name": "stdout",
     "output_type": "stream",
     "text": [
      "Module loaded successfully!\n"
     ]
    }
   ],
   "source": [
    "from research_papers.fetch_papers import fetch_papers\n",
    "print(\"Module loaded successfully!\")"
   ]
  },
  {
   "cell_type": "code",
   "execution_count": 21,
   "id": "80f9c0c9-e45d-4968-a88e-37ceef91ef3a",
   "metadata": {},
   "outputs": [
    {
     "ename": "SyntaxError",
     "evalue": "invalid syntax (1400301421.py, line 1)",
     "output_type": "error",
     "traceback": [
      "  \u001b[36mCell\u001b[39m\u001b[36m \u001b[39m\u001b[32mIn[21]\u001b[39m\u001b[32m, line 1\u001b[39m\n\u001b[31m    \u001b[39m\u001b[31mset PYTHONPATH=C:/Users/Vishnu/Documents/research-paper-fetcher\u001b[39m\n        ^\n\u001b[31mSyntaxError\u001b[39m\u001b[31m:\u001b[39m invalid syntax\n"
     ]
    }
   ],
   "source": [
    "set PYTHONPATH=C:/Users/Vishnu/Documents/research-paper-fetcher\n",
    "python research_papers/cli.py \"cancer therapy\" -f results.csv"
   ]
  },
  {
   "cell_type": "code",
   "execution_count": 22,
   "id": "4d5ad81e-6e2f-4774-8a9f-bdf19a10952f",
   "metadata": {},
   "outputs": [
    {
     "ename": "SyntaxError",
     "evalue": "invalid syntax (3670497919.py, line 1)",
     "output_type": "error",
     "traceback": [
      "  \u001b[36mCell\u001b[39m\u001b[36m \u001b[39m\u001b[32mIn[22]\u001b[39m\u001b[32m, line 1\u001b[39m\n\u001b[31m    \u001b[39m\u001b[31mPYTHONPATH=C:/Users/Vishnu/Documents/research-paper-fetcher\u001b[39m\n                ^\n\u001b[31mSyntaxError\u001b[39m\u001b[31m:\u001b[39m invalid syntax\n"
     ]
    }
   ],
   "source": [
    "PYTHONPATH=C:/Users/Vishnu/Documents/research-paper-fetcher\n",
    "python research_papers/cli.py \"cancer therapy\" -f results.csv"
   ]
  },
  {
   "cell_type": "code",
   "execution_count": 23,
   "id": "769f550a-cb85-483c-8049-21cece0ad768",
   "metadata": {},
   "outputs": [
    {
     "name": "stderr",
     "output_type": "stream",
     "text": [
      "Traceback (most recent call last):\n",
      "  File \"C:\\Users\\Vishnu\\Documents\\research-paper-fetcher\\research_papers\\cli.py\", line 3, in <module>\n",
      "    from research_papers.fetch_papers import fetch_papers\n",
      "ModuleNotFoundError: No module named 'research_papers'\n"
     ]
    }
   ],
   "source": [
    "!python research_papers/cli.py \"cancer therapy\" -f results.csv"
   ]
  },
  {
   "cell_type": "code",
   "execution_count": 24,
   "id": "91d52856-2bfa-4746-b675-ad64e2b6e905",
   "metadata": {},
   "outputs": [
    {
     "ename": "SyntaxError",
     "evalue": "invalid syntax (149468388.py, line 1)",
     "output_type": "error",
     "traceback": [
      "  \u001b[36mCell\u001b[39m\u001b[36m \u001b[39m\u001b[32mIn[24]\u001b[39m\u001b[32m, line 1\u001b[39m\n\u001b[31m    \u001b[39m\u001b[31mpython research_papers/cli.py \"cancer therapy\" -f results.csv\u001b[39m\n           ^\n\u001b[31mSyntaxError\u001b[39m\u001b[31m:\u001b[39m invalid syntax\n"
     ]
    }
   ],
   "source": [
    "python research_papers/cli.py \"cancer therapy\" -f results.csv"
   ]
  },
  {
   "cell_type": "code",
   "execution_count": 25,
   "id": "5dc66cb7-b343-4d59-b752-a748a9b54aa4",
   "metadata": {},
   "outputs": [
    {
     "name": "stderr",
     "output_type": "stream",
     "text": [
      "C:\\Users\\Vishnu\\Documents\\research-paper-fetcher\\venv\\Scripts\\python.exe: Error while finding module specification for 'research_papers/cli.py' (ModuleNotFoundError: No module named 'research_papers/cli'). Try using 'research_papers/cli' instead of 'research_papers/cli.py' as the module name.\n"
     ]
    }
   ],
   "source": [
    "!python -m research_papers/cli.py \"cancer therapy\" -f results.csv"
   ]
  },
  {
   "cell_type": "code",
   "execution_count": 26,
   "id": "0a515300-9701-4226-8cd8-e72085c96885",
   "metadata": {},
   "outputs": [
    {
     "name": "stderr",
     "output_type": "stream",
     "text": [
      "C:\\Users\\Vishnu\\AppData\\Local\\Programs\\Python\\Python312\\python.exe: can't open file 'C:\\\\Users\\\\Vishnu\\\\Documents\\\\research-paper-fetcher\\\\research_papers\\\\cli': [Errno 2] No such file or directory\n"
     ]
    }
   ],
   "source": [
    "!python research_papers/cli \"cancer therapy\" -f results.csv"
   ]
  },
  {
   "cell_type": "code",
   "execution_count": 27,
   "id": "3adb0579-36ac-4cab-9d06-08ed370a4bbd",
   "metadata": {},
   "outputs": [
    {
     "name": "stderr",
     "output_type": "stream",
     "text": [
      "C:\\Users\\Vishnu\\AppData\\Local\\Programs\\Python\\Python312\\python.exe: can't open file 'C:\\\\Users\\\\Vishnu\\\\Documents\\\\research-paper-fetcher\\\\research_papers.cli': [Errno 2] No such file or directory\n"
     ]
    }
   ],
   "source": [
    "!python research_papers.cli \"cancer therapy\" -f results.csv"
   ]
  },
  {
   "cell_type": "code",
   "execution_count": 28,
   "id": "6e57a05b-176d-4de7-af07-6f9a8a376d25",
   "metadata": {},
   "outputs": [
    {
     "ename": "SyntaxError",
     "evalue": "invalid syntax (2683760937.py, line 1)",
     "output_type": "error",
     "traceback": [
      "  \u001b[36mCell\u001b[39m\u001b[36m \u001b[39m\u001b[32mIn[28]\u001b[39m\u001b[32m, line 1\u001b[39m\n\u001b[31m    \u001b[39m\u001b[31mpython -m research_papers.cli \"cancer therapy\" -f results.csv\u001b[39m\n              ^\n\u001b[31mSyntaxError\u001b[39m\u001b[31m:\u001b[39m invalid syntax\n"
     ]
    }
   ],
   "source": [
    "python -m research_papers.cli \"cancer therapy\" -f results.csv"
   ]
  },
  {
   "cell_type": "code",
   "execution_count": 29,
   "id": "2bab4aed-8512-4014-a53e-ae77a90e5445",
   "metadata": {},
   "outputs": [
    {
     "name": "stderr",
     "output_type": "stream",
     "text": [
      "Traceback (most recent call last):\n",
      "  File \"<frozen runpy>\", line 198, in _run_module_as_main\n",
      "  File \"<frozen runpy>\", line 88, in _run_code\n",
      "  File \"C:\\Users\\Vishnu\\Documents\\research-paper-fetcher\\research_papers\\cli.py\", line 3, in <module>\n",
      "    from research_papers.fetch_papers import fetch_papers\n",
      "  File \"C:\\Users\\Vishnu\\Documents\\research-paper-fetcher\\research_papers\\fetch_papers.py\", line 2, in <module>\n",
      "    from Bio import Entrez\n",
      "ModuleNotFoundError: No module named 'Bio'\n"
     ]
    }
   ],
   "source": [
    "!python -m research_papers.cli \"cancer therapy\" -f results.csv"
   ]
  },
  {
   "cell_type": "code",
   "execution_count": 30,
   "id": "725e40cf-3e0d-4d8f-a716-7578fb2347df",
   "metadata": {},
   "outputs": [
    {
     "name": "stdout",
     "output_type": "stream",
     "text": [
      "Collecting biopython\n",
      "  Using cached biopython-1.85-cp312-cp312-win_amd64.whl.metadata (13 kB)\n",
      "Requirement already satisfied: numpy in c:\\users\\vishnu\\documents\\research-paper-fetcher\\venv\\lib\\site-packages (from biopython) (2.2.3)\n",
      "Using cached biopython-1.85-cp312-cp312-win_amd64.whl (2.8 MB)\n",
      "Installing collected packages: biopython\n",
      "Successfully installed biopython-1.85\n"
     ]
    },
    {
     "name": "stderr",
     "output_type": "stream",
     "text": [
      "\n",
      "[notice] A new release of pip is available: 24.0 -> 25.0.1\n",
      "[notice] To update, run: python.exe -m pip install --upgrade pip\n"
     ]
    }
   ],
   "source": [
    "!pip install biopython"
   ]
  },
  {
   "cell_type": "code",
   "execution_count": 31,
   "id": "6432587a-3d65-4515-8f90-8eb9154c4b23",
   "metadata": {},
   "outputs": [
    {
     "name": "stdout",
     "output_type": "stream",
     "text": [
      "Biopython is installed successfully!\n"
     ]
    }
   ],
   "source": [
    "import Bio\n",
    "print(\"Biopython is installed successfully!\")"
   ]
  },
  {
   "cell_type": "code",
   "execution_count": 32,
   "id": "31bc2190-9113-4cdd-8543-21ea87b19a07",
   "metadata": {},
   "outputs": [
    {
     "name": "stderr",
     "output_type": "stream",
     "text": [
      "Traceback (most recent call last):\n",
      "  File \"<frozen runpy>\", line 198, in _run_module_as_main\n",
      "  File \"<frozen runpy>\", line 88, in _run_code\n",
      "  File \"C:\\Users\\Vishnu\\Documents\\research-paper-fetcher\\research_papers\\cli.py\", line 32, in <module>\n",
      "    main() \n",
      "    ^^^^^^\n",
      "  File \"C:\\Users\\Vishnu\\Documents\\research-paper-fetcher\\research_papers\\cli.py\", line 23, in main\n",
      "    papers = fetch_papers(args.query)\n",
      "             ^^^^^^^^^^^^^^^^^^^^^^^^\n",
      "  File \"C:\\Users\\Vishnu\\Documents\\research-paper-fetcher\\research_papers\\fetch_papers.py\", line 22, in fetch_papers\n",
      "    \"Publication Date\": article.get(\"ArticleDate\", [{\"Year\": \"N/A\"}])[0][\"Year\"],\n",
      "                        ~~~~~~~~~~~~~~~~~~~~~~~~~~~~~~~~~~~~~~~~~~~~~^^^\n",
      "IndexError: list index out of range\n"
     ]
    }
   ],
   "source": [
    "!python -m research_papers.cli \"cancer therapy\" -f results.csv"
   ]
  },
  {
   "cell_type": "code",
   "execution_count": 33,
   "id": "28cc7019-5fe8-499d-b570-fa4f20647f85",
   "metadata": {},
   "outputs": [
    {
     "name": "stderr",
     "output_type": "stream",
     "text": [
      "Traceback (most recent call last):\n",
      "  File \"<frozen runpy>\", line 198, in _run_module_as_main\n",
      "  File \"<frozen runpy>\", line 88, in _run_code\n",
      "  File \"C:\\Users\\Vishnu\\Documents\\research-paper-fetcher\\research_papers\\cli.py\", line 3, in <module>\n",
      "    from research_papers.fetch_papers import fetch_papers\n",
      "  File \"C:\\Users\\Vishnu\\Documents\\research-paper-fetcher\\research_papers\\fetch_papers.py\", line 22\n",
      "    article_date = article.get(\"ArticleDate\", [])\n",
      "               ^\n",
      "SyntaxError: ':' expected after dictionary key\n"
     ]
    }
   ],
   "source": [
    "!python -m research_papers.cli \"cancer therapy\" -f results.csv"
   ]
  },
  {
   "cell_type": "code",
   "execution_count": 34,
   "id": "56a0bcd8-b0c8-4675-8b8e-930d6bc08122",
   "metadata": {},
   "outputs": [
    {
     "name": "stderr",
     "output_type": "stream",
     "text": [
      "Traceback (most recent call last):\n",
      "  File \"<frozen runpy>\", line 198, in _run_module_as_main\n",
      "  File \"<frozen runpy>\", line 88, in _run_code\n",
      "  File \"C:\\Users\\Vishnu\\Documents\\research-paper-fetcher\\research_papers\\cli.py\", line 26, in <module>\n",
      "    main() \n",
      "    ^^^^^^\n",
      "  File \"C:\\Users\\Vishnu\\Documents\\research-paper-fetcher\\research_papers\\cli.py\", line 12, in main\n",
      "    papers = fetch_papers(args.query)\n",
      "             ^^^^^^^^^^^^^^^^^^^^^^^^\n",
      "  File \"C:\\Users\\Vishnu\\Documents\\research-paper-fetcher\\research_papers\\fetch_papers.py\", line 33, in fetch_papers\n",
      "    publication_date = article_info.get(\"ArticleDate\", [{\"Year\": \"N/A\"}])[0][\"Year\"]\n",
      "                       ~~~~~~~~~~~~~~~~~~~~~~~~~~~~~~~~~~~~~~~~~~~~~~~~~~^^^\n",
      "IndexError: list index out of range\n"
     ]
    }
   ],
   "source": [
    "!python -m research_papers.cli \"cancer therapy\" -f results.csv"
   ]
  },
  {
   "cell_type": "code",
   "execution_count": 35,
   "id": "59fd3bfc-5971-4494-adfb-f3bf435f4f70",
   "metadata": {},
   "outputs": [
    {
     "name": "stdout",
     "output_type": "stream",
     "text": [
      "Results saved to results.csv\n"
     ]
    }
   ],
   "source": [
    "!python -m research_papers.cli \"cancer therapy\" -f results.csv"
   ]
  },
  {
   "cell_type": "code",
   "execution_count": 36,
   "id": "56db0f83-f87d-44e2-8149-56832565b52f",
   "metadata": {},
   "outputs": [
    {
     "name": "stdout",
     "output_type": "stream",
     "text": [
      "   PubmedID                                              Title  \\\n",
      "0  40063100  Preclinical investigation of anti-tumor effica...   \n",
      "1  40063049     Cell-based Immunotherapy in Esophageal Cancer.   \n",
      "2  40063046                         Prostate Cancer: A Review.   \n",
      "3  40062998  Safe prescribing in cancer patients during the...   \n",
      "4  40062947  A Nd-Yb ratiometric luminescent nanothermomete...   \n",
      "\n",
      "  Publication Date  Non-academic Author(s)  Company Affiliation(s)  \\\n",
      "0             2025                     NaN                     NaN   \n",
      "1             2025                     NaN                     NaN   \n",
      "2             2025                     NaN                     NaN   \n",
      "3             2025                     NaN                     NaN   \n",
      "4             2025                     NaN                     NaN   \n",
      "\n",
      "   Corresponding Author Email  \n",
      "0                         NaN  \n",
      "1                         NaN  \n",
      "2                         NaN  \n",
      "3                         NaN  \n",
      "4                         NaN  \n"
     ]
    }
   ],
   "source": [
    "import pandas as pd\n",
    "df = pd.read_csv(\"results.csv\")\n",
    "print(df.head())"
   ]
  },
  {
   "cell_type": "code",
   "execution_count": null,
   "id": "fe886806-f3b4-46e6-a1bb-06dbbe5fd648",
   "metadata": {},
   "outputs": [],
   "source": []
  }
 ],
 "metadata": {
  "kernelspec": {
   "display_name": "Python 3 (ipykernel)",
   "language": "python",
   "name": "python3"
  },
  "language_info": {
   "codemirror_mode": {
    "name": "ipython",
    "version": 3
   },
   "file_extension": ".py",
   "mimetype": "text/x-python",
   "name": "python",
   "nbconvert_exporter": "python",
   "pygments_lexer": "ipython3",
   "version": "3.12.3"
  }
 },
 "nbformat": 4,
 "nbformat_minor": 5
}
